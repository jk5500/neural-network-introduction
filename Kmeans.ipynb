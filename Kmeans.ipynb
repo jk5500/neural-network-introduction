{
 "cells": [
  {
   "cell_type": "code",
   "execution_count": 5,
   "metadata": {
    "collapsed": true
   },
   "outputs": [],
   "source": [
    "import numpy as np\n",
    "import matplotlib.pyplot as plt\n",
    "%matplotlib inline\n",
    "import seaborn\n",
    "from sklearn import datasets"
   ]
  },
  {
   "cell_type": "code",
   "execution_count": 145,
   "metadata": {
    "collapsed": false
   },
   "outputs": [
    {
     "data": {
      "image/png": "[encoded data removed]",
      "text/plain": [
       "<matplotlib.figure.Figure at 0x9cf1470>"
      ]
     },
     "metadata": {},
     "output_type": "display_data"
    }
   ],
   "source": [
    "iris = datasets.load_iris()\n",
    "X = iris.data[:, [0,3]]  # we only take the first two features.\n",
    "Y = iris.target\n",
    "plt.plot(X[:,0],X[:,1],'ro')\n",
    "plt.title('iris data set')\n",
    "plt.show()"
   ]
  },
  {
   "cell_type": "code",
   "execution_count": 154,
   "metadata": {
    "collapsed": false
   },
   "outputs": [],
   "source": [
    "np.random.seed(0)\n",
    "k=3\n",
    "centers=X[np.random.choice(range(X.shape[0]),k,replace=False)]"
   ]
  },
  {
   "cell_type": "code",
   "execution_count": 155,
   "metadata": {
    "collapsed": false
   },
   "outputs": [],
   "source": [
    "def energy(X,centers):\n",
    "    J=(X-centers[:,np.newaxis])**2\n",
    "    sum_d=np.sum(J,axis=2)\n",
    "    min_v=np.min(sum_d,axis=0)\n",
    "    final_sum=np.sum(min_v)\n",
    "    return final_sum"
   ]
  },
  {
   "cell_type": "code",
   "execution_count": 161,
   "metadata": {
    "collapsed": false
   },
   "outputs": [
    {
     "data": {
      "image/png": "[encoded data removed]",
      "text/plain": [
       "<matplotlib.figure.Figure at 0xaef5198>"
      ]
     },
     "metadata": {},
     "output_type": "display_data"
    }
   ],
   "source": [
    "np.random.seed(0)\n",
    "k=3\n",
    "centers=X[np.random.choice(range(X.shape[0]),k,replace=False)]\n",
    "c=['ro','go','bo']\n",
    "iteration=10\n",
    "J1=[]\n",
    "for i in range(iteration):\n",
    "    dist=(X-centers[:,np.newaxis])**2\n",
    "    sum_d=np.sum(dist,axis=2)\n",
    "    min_arg=np.argmin(sum_d,axis=0)\n",
    "    uniq=np.unique(min_arg)\n",
    "    J=energy(X,centers)\n",
    "    J1.append(J)\n",
    "    for i in range(k):\n",
    "        index=min_arg==uniq[i]\n",
    "        plt.plot(X[index,0],X[index,1],c[i])\n",
    "        centers[i]=np.mean(X[min_arg==uniq[i]],axis=0)\n",
    "    \n"
   ]
  },
  {
   "cell_type": "code",
   "execution_count": null,
   "metadata": {
    "collapsed": false
   },
   "outputs": [],
   "source": []
  },
  {
   "cell_type": "code",
   "execution_count": null,
   "metadata": {
    "collapsed": false
   },
   "outputs": [],
   "source": []
  },
  {
   "cell_type": "code",
   "execution_count": null,
   "metadata": {
    "collapsed": true
   },
   "outputs": [],
   "source": []
  }
 ],
 "metadata": {
  "kernelspec": {
   "display_name": "Python [Root]",
   "language": "python",
   "name": "Python [Root]"
  },
  "language_info": {
   "codemirror_mode": {
    "name": "ipython",
    "version": 2
   },
   "file_extension": ".py",
   "mimetype": "text/x-python",
   "name": "python",
   "nbconvert_exporter": "python",
   "pygments_lexer": "ipython2",
   "version": "2.7.12"
  }
 },
 "nbformat": 4,
 "nbformat_minor": 0
}
