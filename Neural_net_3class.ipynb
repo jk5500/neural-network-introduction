{
 "cells": [
  {
   "cell_type": "code",
   "execution_count": 2,
   "metadata": {
    "collapsed": true
   },
   "outputs": [],
   "source": [
    "import numpy as np\n",
    "import matplotlib.pyplot as plt\n",
    "%matplotlib inline\n",
    "import seaborn\n",
    "from sklearn import datasets"
   ]
  },
  {
   "cell_type": "code",
   "execution_count": 3,
   "metadata": {
    "collapsed": false
   },
   "outputs": [
    {
     "data": {
      "image/png": "[encoded data removed]",
      "text/plain": [
       "<matplotlib.figure.Figure at 0x9a53da0>"
      ]
     },
     "metadata": {},
     "output_type": "display_data"
    }
   ],
   "source": [
    "iris = datasets.load_iris()\n",
    "X = iris.data[:, [0,1]]  # we only take the first two features.\n",
    "y = iris.target\n",
    "uniq=np.unique(y)\n",
    "c=['ro','bo','ko']\n",
    "for i in range(3):\n",
    "    index=y==uniq[i]\n",
    "    plt.plot(X[index,0],X[index,1],c[i])\n",
    "plt.title('iris data set')\n",
    "plt.show()"
   ]
  },
  {
   "cell_type": "code",
   "execution_count": 4,
   "metadata": {
    "collapsed": true
   },
   "outputs": [],
   "source": [
    "def sig( signal ):\n",
    "    # Prevent overflow.\n",
    "    signal = np.clip( signal, -500, 500 )\n",
    "\n",
    "    # Calculate activation signal\n",
    "    signal = 1.0/( 1 + np.exp( -signal ))\n",
    "\n",
    "    return signal\n",
    "#end\n",
    "def d_sig(x):\n",
    "    return (1-sig(x)**2)"
   ]
  },
  {
   "cell_type": "code",
   "execution_count": null,
   "metadata": {
    "collapsed": false
   },
   "outputs": [
    {
     "name": "stdout",
     "output_type": "stream",
     "text": [
      "iteration 0: 161.960402\n",
      "iteration 10000: 77.496743\n",
      "iteration 20000: 73.442085\n",
      "iteration 30000: 71.067080\n",
      "iteration 40000: 69.234780\n",
      "iteration 50000: 67.665651\n",
      "iteration 60000: 66.436662\n",
      "iteration 70000: 65.307865\n",
      "iteration 80000: 64.281407\n"
     ]
    }
   ],
   "source": [
    "np.random.seed(0)\n",
    "nn_input=2\n",
    "nn_hidden=500\n",
    "nn_output=3\n",
    "w1=np.random.randn(nn_input+1,nn_hidden)/np.sqrt(nn_input)\n",
    "w2=np.random.randn(nn_hidden+1,nn_output)/np.sqrt(nn_hidden)\n",
    "Xnew=np.c_[np.ones(len(X)),X]\n",
    "\n",
    "\n",
    "for i in range(250000):\n",
    "    a2=np.dot(Xnew,w1)\n",
    "    z2=sig(a2)\n",
    "    \n",
    "    znew=np.c_[np.ones(len(z2)),z2]\n",
    "    a3=np.dot(znew,w2)\n",
    "    exp_val=np.exp(a3)\n",
    "    z3=exp_val/np.sum(exp_val,axis=1,keepdims=True)\n",
    "    onlyval=z3[range(len(X)),y]\n",
    "    energy=-np.sum(np.log(onlyval))\n",
    "    if energy and i%10000==0:\n",
    "        print 'iteration %i: %f' %(i,energy)\n",
    "    \n",
    "    \n",
    "    delta3=z3\n",
    "    delta3[[range(len(X)),y]]=delta3[[range(len(X)),y]]-1\n",
    "    dw2=np.dot(znew.T,((delta3)))\n",
    "    \n",
    "    \n",
    "    \n",
    "    \n",
    "    delta2=np.dot(delta3,w2.T)\n",
    "    delta2=delta2[:,1:]*d_sig(a2)\n",
    "    dw1=np.dot(Xnew.T,delta2)\n",
    "    \n",
    "    \n",
    "    epsilon=0.00001\n",
    "    w2=w2-epsilon*dw2\n",
    "    w1=w1-epsilon*dw1\n",
    "    \n",
    "   "
   ]
  },
  {
   "cell_type": "code",
   "execution_count": null,
   "metadata": {
    "collapsed": false
   },
   "outputs": [],
   "source": []
  },
  {
   "cell_type": "code",
   "execution_count": null,
   "metadata": {
    "collapsed": false
   },
   "outputs": [],
   "source": [
    "def prediction(W1,W2,X):\n",
    "    Xnew=np.r_[1,X]\n",
    "    a1=np.dot(Xnew,W1)\n",
    "    z1=sig(a1)\n",
    "    z1=np.r_[1,z1]\n",
    "    a2=np.dot(z1,W2)\n",
    "    #softmax\n",
    "    z2=np.exp(a2)\n",
    "    return z2,np.argmax(z2)"
   ]
  },
  {
   "cell_type": "code",
   "execution_count": null,
   "metadata": {
    "collapsed": false
   },
   "outputs": [
    {
     "data": {
      "image/png": "[encoded data removed]",
      "text/plain": [
       "<matplotlib.figure.Figure at 0xafc8390>"
      ]
     },
     "metadata": {},
     "output_type": "display_data"
    }
   ],
   "source": [
    "x_min, x_max = X[:, 0].min() - .5, X[:, 0].max() + .5\n",
    "y_min, y_max = X[:, 1].min() - .5, X[:, 1].max() + .5\n",
    "h = 0.01\n",
    "xx, yy = np.meshgrid(np.arange(x_min, x_max, h), np.arange(y_min, y_max, h))\n",
    "Z = (np.c_[xx.ravel(), yy.ravel()])\n",
    "m=Z.shape[0]\n",
    "labels=[]\n",
    "for i in range(m):\n",
    "    [x,myvalue]=prediction(w1,w2,Z[i])\n",
    "    if myvalue==2:\n",
    "        label=2\n",
    "    if myvalue==1:\n",
    "        label=1\n",
    "    elif myvalue==0:\n",
    "        label=0\n",
    "    labels.append(label)\n",
    "    \n",
    "labels=np.array(labels)\n",
    "labels=labels.reshape(xx.shape)\n",
    "plt.contourf(xx, yy, labels,cmap=plt.cm.Spectral)\n",
    "#plt.scatter(X[:, 0], X[:, 1], c=y, cmap=plt.cm.Spectral)\n",
    "uniq=np.unique(y)\n",
    "color=['ro','ko','go']\n",
    "for i in range(3):\n",
    "    index=y==uniq[i]\n",
    "    plt.plot(X[index,0],X[index,1],color[i])\n",
    "plt.show()"
   ]
  },
  {
   "cell_type": "code",
   "execution_count": null,
   "metadata": {
    "collapsed": true
   },
   "outputs": [],
   "source": []
  },
  {
   "cell_type": "code",
   "execution_count": null,
   "metadata": {
    "collapsed": true
   },
   "outputs": [],
   "source": []
  }
 ],
 "metadata": {
  "kernelspec": {
   "display_name": "Python 2",
   "language": "python",
   "name": "python2"
  },
  "language_info": {
   "codemirror_mode": {
    "name": "ipython",
    "version": 2
   },
   "file_extension": ".py",
   "mimetype": "text/x-python",
   "name": "python",
   "nbconvert_exporter": "python",
   "pygments_lexer": "ipython2",
   "version": "2.7.11"
  }
 },
 "nbformat": 4,
 "nbformat_minor": 0
}
