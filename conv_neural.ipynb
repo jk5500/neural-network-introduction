{
 "cells": [
  {
   "cell_type": "code",
   "execution_count": 1,
   "metadata": {
    "collapsed": true
   },
   "outputs": [],
   "source": [
    "import numpy as np\n",
    "import matplotlib.pyplot as plt\n",
    "%matplotlib inline"
   ]
  },
  {
   "cell_type": "code",
   "execution_count": 14,
   "metadata": {
    "collapsed": false
   },
   "outputs": [
    {
     "data": {
      "image/png": "[encoded data removed]",
      "text/plain": [
       "<matplotlib.figure.Figure at 0x74bf9e8>"
      ]
     },
     "metadata": {},
     "output_type": "display_data"
    },
    {
     "data": {
      "text/plain": [
       "array([0, 0, 0, 0, 0, 0, 0, 0, 0, 0, 0, 0, 0, 0, 0, 0, 0, 0, 0, 0, 0, 0, 0,\n",
       "       0, 0, 0, 0, 0, 0, 0, 0, 0, 0, 0, 0, 0, 0, 0, 0, 0, 0, 0, 0, 0, 0, 0,\n",
       "       0, 0, 0, 0, 1, 1, 1, 1, 1, 1, 1, 1, 1, 1, 1, 1, 1, 1, 1, 1, 1, 1, 1,\n",
       "       1, 1, 1, 1, 1, 1, 1, 1, 1, 1, 1, 1, 1, 1, 1, 1, 1, 1, 1, 1, 1, 1, 1,\n",
       "       1, 1, 1, 1, 1, 1, 1, 1])"
      ]
     },
     "execution_count": 14,
     "metadata": {},
     "output_type": "execute_result"
    }
   ],
   "source": [
    "import seaborn\n",
    "from sklearn import datasets\n",
    "\n",
    "iris = datasets.load_iris()\n",
    "X = iris.data[50:, [0,3]]  # we only take the first two features.\n",
    "Y = iris.target\n",
    "y=Y[:100]\n",
    "value=np.unique(y)\n",
    "c=['ro','bo']\n",
    "for i in range(2):\n",
    "    index=y==value[i]\n",
    "    plt.plot(X[index, 0], X[index, 1], c[i])\n",
    "    plt.title('iris data set')\n",
    "plt.show()\n",
    "y"
   ]
  },
  {
   "cell_type": "code",
   "execution_count": 15,
   "metadata": {
    "collapsed": false
   },
   "outputs": [],
   "source": [
    "def sigmoid(x):\n",
    "    return 1/(1+np.exp(-x))\n",
    "def d_sigmoid(x):\n",
    "    return sigmoid(x)*(1-sigmoid(x))\n",
    "    "
   ]
  },
  {
   "cell_type": "code",
   "execution_count": 16,
   "metadata": {
    "collapsed": false
   },
   "outputs": [],
   "source": [
    "n_input=2\n",
    "n_hidden=6\n",
    "n_output=2\n",
    "\n",
    "w1=np.random.rand(n_input+1,n_hidden)\n",
    "w2=np.random.rand(n_hidden+1,n_output)\n",
    "epsilon=0.01\n",
    "Xnew=np.c_[np.ones(len(X)),X]\n"
   ]
  },
  {
   "cell_type": "code",
   "execution_count": 20,
   "metadata": {
    "collapsed": false
   },
   "outputs": [
    {
     "name": "stdout",
     "output_type": "stream",
     "text": [
      "iteration 0: 77.524396\n",
      "iteration 10000: 17.171751\n",
      "iteration 20000: 16.406635\n",
      "iteration 30000: 15.278537\n",
      "iteration 40000: 14.095384\n",
      "iteration 50000: 13.252901\n",
      "iteration 60000: 12.714679\n",
      "iteration 70000: 12.318350\n",
      "iteration 80000: 12.041318\n",
      "iteration 90000: 11.848255\n"
     ]
    }
   ],
   "source": [
    "\n",
    "epsilon=0.01\n",
    "nn_input=2\n",
    "nn_hidden_1=50\n",
    "nn_hidden_2=3\n",
    "nn_output=2\n",
    "W1=np.random.rand(nn_input+1,nn_hidden_1)\n",
    "W2=np.random.rand(nn_hidden_1+1,nn_output)\n",
    "one=np.ones(len(X))\n",
    "Xnew=np.c_[one,X]\n",
    "for i in range(100000):\n",
    "    a1=np.dot(Xnew,W1)\n",
    "    z1=sigmoid(a1)\n",
    "   \n",
    "    z1=np.c_[one,z1]\n",
    "    a2=np.dot(z1,W2)\n",
    "    \n",
    "    #softmax\n",
    "    z2=np.exp(a2)\n",
    "    total=(z2[:,0]+z2[:,1])\n",
    "    z2=zip(z2[:,0]/total,z2[:,1]/total)\n",
    "    z2=np.array(z2)\n",
    "    loss= np.sum(-np.log((z2[range(len(X)),y])))\n",
    "    if loss and i%10000==0:\n",
    "        print 'iteration %i: %f' %(i,loss)\n",
    "    \n",
    "    #backProp\n",
    "    \n",
    "    delta2=z2\n",
    "    delta2[range(len(X)),y]=delta2[range(len(X)),y]-1\n",
    "    dW2=np.dot(z1.T,delta2)\n",
    "    \n",
    "    delta1=np.dot(delta2,W2.T)\n",
    "    delta1=delta1[:,1:]*d_sigmoid(a1)\n",
    "    \n",
    "    dW1=np.dot(Xnew.T,delta1)\n",
    "    \n",
    "    W1+=-epsilon*dW1\n",
    "    W2+=-epsilon*dW2"
   ]
  },
  {
   "cell_type": "code",
   "execution_count": 21,
   "metadata": {
    "collapsed": false
   },
   "outputs": [],
   "source": [
    "def prediction(W1,W2,X):\n",
    "    Xnew=np.r_[1,X]\n",
    "    a1=np.dot(Xnew,W1)\n",
    "    z1=sigmoid(a1)\n",
    "    z1=np.r_[1,z1]\n",
    "    a2=np.dot(z1,W2)\n",
    "    #softmax\n",
    "    z2=np.exp(a2)\n",
    "    return z2,np.argmax(z2)"
   ]
  },
  {
   "cell_type": "code",
   "execution_count": 22,
   "metadata": {
    "collapsed": false
   },
   "outputs": [
    {
     "data": {
      "image/png": "[encoded data removed]",
      "text/plain": [
       "<matplotlib.figure.Figure at 0x974f2b0>"
      ]
     },
     "metadata": {},
     "output_type": "display_data"
    }
   ],
   "source": [
    "x_min, x_max = X[:, 0].min() - .5, X[:, 0].max() + .5\n",
    "y_min, y_max = X[:, 1].min() - .5, X[:, 1].max() + .5\n",
    "h = 0.01\n",
    "xx, yy = np.meshgrid(np.arange(x_min, x_max, h), np.arange(y_min, y_max, h))\n",
    "Z = (np.c_[xx.ravel(), yy.ravel()])\n",
    "m=Z.shape[0]\n",
    "labels=[]\n",
    "for i in range(m):\n",
    "    [x,myvalue]=prediction(W1,W2,Z[i])\n",
    "    if myvalue==1:\n",
    "        label=1\n",
    "    elif myvalue==0:\n",
    "        label=0\n",
    "    labels.append(label)\n",
    "    \n",
    "labels=np.array(labels)\n",
    "labels=labels.reshape(xx.shape)\n",
    "plt.contourf(xx, yy, labels, cmap=plt.cm.Spectral)\n",
    "#plt.scatter(X[:, 0], X[:, 1], c=y, cmap=plt.cm.Spectral)\n",
    "uniq=np.unique(y)\n",
    "color=['ro','ko']\n",
    "for i in range(2):\n",
    "    index=y==uniq[i]\n",
    "    plt.plot(X[index,0],X[index,1],color[i])\n",
    "plt.show()"
   ]
  },
  {
   "cell_type": "code",
   "execution_count": null,
   "metadata": {
    "collapsed": true
   },
   "outputs": [],
   "source": []
  },
  {
   "cell_type": "code",
   "execution_count": null,
   "metadata": {
    "collapsed": true
   },
   "outputs": [],
   "source": []
  }
 ],
 "metadata": {
  "kernelspec": {
   "display_name": "Python 2",
   "language": "python",
   "name": "python2"
  },
  "language_info": {
   "codemirror_mode": {
    "name": "ipython",
    "version": 2
   },
   "file_extension": ".py",
   "mimetype": "text/x-python",
   "name": "python",
   "nbconvert_exporter": "python",
   "pygments_lexer": "ipython2",
   "version": "2.7.11"
  }
 },
 "nbformat": 4,
 "nbformat_minor": 0
}
